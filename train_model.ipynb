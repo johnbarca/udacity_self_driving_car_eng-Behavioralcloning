{
 "cells": [
  {
   "cell_type": "code",
   "execution_count": 43,
   "metadata": {},
   "outputs": [
    {
     "name": "stdout",
     "output_type": "stream",
     "text": [
      "Collecting package metadata (repodata.json): done\n",
      "Solving environment: done\n",
      "\n",
      "# All requested packages already installed.\n",
      "\n"
     ]
    }
   ],
   "source": [
    "import sys\n",
    "!conda install --yes --prefix {sys.prefix} keras-gpu\n"
   ]
  },
  {
   "cell_type": "code",
   "execution_count": 1,
   "metadata": {},
   "outputs": [
    {
     "name": "stdout",
     "output_type": "stream",
     "text": [
      "/bin/sh: 1: {sys.executable}: not found\r\n"
     ]
    }
   ],
   "source": [
    "!{sys.executable} -m pip install keras-vis\n"
   ]
  },
  {
   "cell_type": "code",
   "execution_count": 1,
   "metadata": {},
   "outputs": [
    {
     "name": "stderr",
     "output_type": "stream",
     "text": [
      "Using TensorFlow backend.\n"
     ]
    }
   ],
   "source": [
    "import os\n",
    "#os.environ[\"CUDA_DEVICE_ORDER\"]=\"PCI_BUS_ID\";  # The GPU id to use, usually either \"0\" or \"1\";\n",
    "os.environ[\"CUDA_VISIBLE_DEVICES\"]=\"0\";  # Do other imports now...\n",
    "import keras"
   ]
  },
  {
   "cell_type": "code",
   "execution_count": 2,
   "metadata": {},
   "outputs": [],
   "source": [
    "%matplotlib inline\n",
    "\n",
    "from matplotlib import pyplot as plt\n",
    "from IPython.display import clear_output\n",
    "\n",
    "plt.rcParams['figure.figsize'] = (5, 5)\n",
    "\n",
    "\n",
    "class PlotLosses(keras.callbacks.Callback):\n",
    "    def on_train_begin(self, logs={}):\n",
    "        self.i = 0\n",
    "        self.x = []\n",
    "        self.losses = []\n",
    "        self.val_losses = []\n",
    "        \n",
    "        self.fig = plt.figure()\n",
    "        \n",
    "        self.logs = []\n",
    "\n",
    "    def on_epoch_end(self, epoch, logs={}):\n",
    "        \n",
    "        self.logs.append(logs)\n",
    "        self.x.append(self.i)\n",
    "        self.losses.append(logs.get('loss'))\n",
    "        self.val_losses.append(logs.get('val_loss'))\n",
    "        self.i += 1\n",
    "        \n",
    "        clear_output(wait=True)\n",
    "        plt.plot(self.x, self.losses, label=\"loss\")\n",
    "        plt.plot(self.x, self.val_losses, label=\"val_loss\")\n",
    "        plt.legend()\n",
    "        plt.show();\n",
    "        \n",
    "plot_losses = PlotLosses()\n"
   ]
  },
  {
   "cell_type": "code",
   "execution_count": 3,
   "metadata": {},
   "outputs": [
    {
     "name": "stdout",
     "output_type": "stream",
     "text": [
      "Sun Dec  8 18:05:53 2019       \r\n",
      "+-----------------------------------------------------------------------------+\r\n",
      "| NVIDIA-SMI 430.50       Driver Version: 430.50       CUDA Version: 10.1     |\r\n",
      "|-------------------------------+----------------------+----------------------+\r\n",
      "| GPU  Name        Persistence-M| Bus-Id        Disp.A | Volatile Uncorr. ECC |\r\n",
      "| Fan  Temp  Perf  Pwr:Usage/Cap|         Memory-Usage | GPU-Util  Compute M. |\r\n",
      "|===============================+======================+======================|\r\n",
      "|   0  GeForce GTX 1050    Off  | 00000000:01:00.0  On |                  N/A |\r\n",
      "| N/A   56C    P0    N/A /  N/A |    485MiB /  4040MiB |      0%      Default |\r\n",
      "+-------------------------------+----------------------+----------------------+\r\n",
      "                                                                               \r\n",
      "+-----------------------------------------------------------------------------+\r\n",
      "| Processes:                                                       GPU Memory |\r\n",
      "|  GPU       PID   Type   Process name                             Usage      |\r\n",
      "|=============================================================================|\r\n",
      "|    0      1326      G   /usr/lib/xorg/Xorg                           228MiB |\r\n",
      "|    0      1998      G   /usr/bin/gnome-shell                         100MiB |\r\n",
      "|    0      2315      G   ...uest-channel-token=17488833166993973859    17MiB |\r\n",
      "|    0      2461      G   ...uest-channel-token=14115869976650409325   136MiB |\r\n",
      "+-----------------------------------------------------------------------------+\r\n"
     ]
    }
   ],
   "source": [
    "!nvidia-smi"
   ]
  },
  {
   "cell_type": "code",
   "execution_count": 3,
   "metadata": {},
   "outputs": [],
   "source": [
    "import cv2\n",
    "import csv\n",
    "import numpy as np\n",
    "import sklearn\n",
    "\n",
    "data_dir = 'data/'\n",
    "\n",
    "from sklearn.model_selection import train_test_split\n",
    "\n",
    "samples = []\n",
    "\n",
    "with open(data_dir + 'driving_log.csv') as csv_file:        \n",
    "    reader = csv.reader(csv_file)\n",
    "    for line in reader:\n",
    "        samples.append(line)\n",
    "\n",
    "train_samples, validation_samples = train_test_split(samples, test_size=0.2)\n",
    "\n",
    " \n",
    "def generator(samples, batch_size=32, measurement_offset=0):\n",
    "    num_samples = len(samples)\n",
    "    \n",
    "\n",
    "    while 1: # Loop forever so the generator never terminates\n",
    "        sklearn.utils.shuffle(samples)\n",
    "        for offset in range(0, num_samples, batch_size):\n",
    "            batch_samples = samples[offset:offset+batch_size]\n",
    "\n",
    "            images = []\n",
    "            measurements = []\n",
    "\n",
    "            for batch_sample in batch_samples:\n",
    "                center_cam = data_dir + './IMG/' + batch_sample[0].split('/')[-1]\n",
    "                left_cam =  data_dir + './IMG/' + batch_sample[1].split('/')[-1]\n",
    "                right_cam =  data_dir + './IMG/' + batch_sample[2].split('/')[-1]\n",
    "\n",
    "                img = cv2.imread(center_cam)\n",
    "                img = cv2.cvtColor(img, cv2.COLOR_BGR2RGB)\n",
    "\n",
    "                measurement = float(batch_sample[3])\n",
    "                #remove anything that comes from turning round off the track\n",
    "                if measurement > 0.95: \n",
    "                    continue\n",
    "                \n",
    "                images.append(img)\n",
    "                measurements.append(measurement)\n",
    "\n",
    "                img = cv2.flip(img, 1)\n",
    "                images.append(img)\n",
    "                measurements.append(-measurement)\n",
    "               \n",
    "                \n",
    "                # left cam\n",
    "                img = cv2.imread(left_cam)   \n",
    "                img = cv2.cvtColor(img, cv2.COLOR_BGR2RGB)\n",
    "                images.append(img)\n",
    "                measurements.append(measurement + measurement_offset)\n",
    "\n",
    "                ## flip the image\n",
    "                img = cv2.flip(img, 1)\n",
    "                images.append(img)\n",
    "                measurements.append(-(measurement + measurement_offset))\n",
    "\n",
    "                # right cam\n",
    "                img = cv2.imread(right_cam)   \n",
    "                img = cv2.cvtColor(img, cv2.COLOR_BGR2RGB)\n",
    "                images.append(img)\n",
    "                measurements.append(measurement - measurement_offset)\n",
    "\n",
    "                 ## flip the image\n",
    "                img = cv2.flip(img, 1)\n",
    "                images.append(img)\n",
    "                measurements.append(-(measurement - measurement_offset))\n",
    "                \n",
    "                \n",
    "\n",
    "            # trim image to only see section with road\n",
    "            X_train = np.array(images)\n",
    "            y_train = np.array(measurements)\n",
    "            yield sklearn.utils.shuffle(X_train, y_train)\n",
    "\n",
    "# Set our batch size\n",
    "batch_size = 64\n",
    "\n",
    "# try and find the best camera offset parameter\n",
    "measurement_offset = 0.04\n",
    "\n",
    "# compile and train the model using the generator function\n",
    "train_generator = generator(train_samples, batch_size=batch_size, measurement_offset=measurement_offset)\n",
    "validation_generator = generator(validation_samples, batch_size=batch_size,  measurement_offset=measurement_offset)"
   ]
  },
  {
   "cell_type": "code",
   "execution_count": 4,
   "metadata": {},
   "outputs": [],
   "source": [
    "import os\n",
    "import csv\n",
    "import cv2\n",
    "import numpy as np\n",
    "from keras.models import Sequential, Model\n",
    "from keras.layers import Lambda, Conv2D, MaxPooling2D, Dropout, Dense, Flatten, Activation, BatchNormalization, Cropping2D, ELU\n",
    "from keras.callbacks import ModelCheckpoint, EarlyStopping\n",
    "\n",
    "\n",
    "def create_model():\n",
    "    model = Sequential()\n",
    "\n",
    "    #crop image to lose trees, etc, from top\n",
    "    model.add(Cropping2D(cropping=((60, 10), (0, 0)), input_shape=(160, 320, 3)))\n",
    "    #normalize\n",
    "    model.add(Lambda(lambda x: x / 255.0 - 0.5))\n",
    "    \n",
    "    #large filtes and strides, no pooling\n",
    "    model.add(Conv2D(filters = 24, kernel_size = (8, 8), strides = (4, 4), activation = 'relu', padding = 'same'))\n",
    "    model.add(Conv2D(filters = 36, kernel_size = (5, 5), strides = (2, 2), activation = 'relu', padding = 'same'))\n",
    "    model.add(Conv2D(filters = 48, kernel_size = (3, 3), strides = (1, 1), activation = 'relu',  padding = 'same'))\n",
    "    model.add(Conv2D(filters = 64, kernel_size = (3, 3),  activation = 'relu'))\n",
    "    model.add(MaxPooling2D(pool_size = (2, 2)))\n",
    "    model.add(Conv2D(filters = 128, kernel_size = (3, 3),  activation = 'relu'))\n",
    "\n",
    "    model.add(Flatten())\n",
    "    model.add(Dense(1000, activation='relu'))\n",
    "    model.add(Dropout(rate = 0.2))\n",
    "    model.add(Dense(500, activation='relu'))\n",
    "    model.add(Dropout(rate = 0.2))\n",
    "    model.add(Dropout(0.2))\n",
    "    model.add(Dense(10, activation='relu'))\n",
    "    model.add(Dropout(rate = 0.1))\n",
    "    model.add(Dense(1, activation='linear'))    \n",
    "\n",
    "    return model\n",
    "\n"
   ]
  },
  {
   "cell_type": "code",
   "execution_count": 5,
   "metadata": {},
   "outputs": [
    {
     "name": "stdout",
     "output_type": "stream",
     "text": [
      "WARNING:tensorflow:From /opt/anaconda3/lib/python3.7/site-packages/keras/backend/tensorflow_backend.py:74: The name tf.get_default_graph is deprecated. Please use tf.compat.v1.get_default_graph instead.\n",
      "\n",
      "WARNING:tensorflow:From /opt/anaconda3/lib/python3.7/site-packages/keras/backend/tensorflow_backend.py:517: The name tf.placeholder is deprecated. Please use tf.compat.v1.placeholder instead.\n",
      "\n",
      "WARNING:tensorflow:From /opt/anaconda3/lib/python3.7/site-packages/keras/backend/tensorflow_backend.py:4138: The name tf.random_uniform is deprecated. Please use tf.random.uniform instead.\n",
      "\n",
      "WARNING:tensorflow:From /opt/anaconda3/lib/python3.7/site-packages/keras/backend/tensorflow_backend.py:3976: The name tf.nn.max_pool is deprecated. Please use tf.nn.max_pool2d instead.\n",
      "\n",
      "WARNING:tensorflow:From /opt/anaconda3/lib/python3.7/site-packages/keras/backend/tensorflow_backend.py:133: The name tf.placeholder_with_default is deprecated. Please use tf.compat.v1.placeholder_with_default instead.\n",
      "\n",
      "WARNING:tensorflow:From /opt/anaconda3/lib/python3.7/site-packages/keras/backend/tensorflow_backend.py:3445: calling dropout (from tensorflow.python.ops.nn_ops) with keep_prob is deprecated and will be removed in a future version.\n",
      "Instructions for updating:\n",
      "Please use `rate` instead of `keep_prob`. Rate should be set to `rate = 1 - keep_prob`.\n",
      "WARNING:tensorflow:From /opt/anaconda3/lib/python3.7/site-packages/keras/optimizers.py:790: The name tf.train.Optimizer is deprecated. Please use tf.compat.v1.train.Optimizer instead.\n",
      "\n",
      "_________________________________________________________________\n",
      "Layer (type)                 Output Shape              Param #   \n",
      "=================================================================\n",
      "cropping2d_1 (Cropping2D)    (None, 90, 320, 3)        0         \n",
      "_________________________________________________________________\n",
      "lambda_1 (Lambda)            (None, 90, 320, 3)        0         \n",
      "_________________________________________________________________\n",
      "conv2d_1 (Conv2D)            (None, 23, 80, 24)        4632      \n",
      "_________________________________________________________________\n",
      "conv2d_2 (Conv2D)            (None, 12, 40, 36)        21636     \n",
      "_________________________________________________________________\n",
      "conv2d_3 (Conv2D)            (None, 12, 40, 48)        15600     \n",
      "_________________________________________________________________\n",
      "conv2d_4 (Conv2D)            (None, 10, 38, 64)        27712     \n",
      "_________________________________________________________________\n",
      "max_pooling2d_1 (MaxPooling2 (None, 5, 19, 64)         0         \n",
      "_________________________________________________________________\n",
      "conv2d_5 (Conv2D)            (None, 3, 17, 128)        73856     \n",
      "_________________________________________________________________\n",
      "flatten_1 (Flatten)          (None, 6528)              0         \n",
      "_________________________________________________________________\n",
      "dense_1 (Dense)              (None, 1000)              6529000   \n",
      "_________________________________________________________________\n",
      "dropout_1 (Dropout)          (None, 1000)              0         \n",
      "_________________________________________________________________\n",
      "dense_2 (Dense)              (None, 500)               500500    \n",
      "_________________________________________________________________\n",
      "dropout_2 (Dropout)          (None, 500)               0         \n",
      "_________________________________________________________________\n",
      "dropout_3 (Dropout)          (None, 500)               0         \n",
      "_________________________________________________________________\n",
      "dense_3 (Dense)              (None, 10)                5010      \n",
      "_________________________________________________________________\n",
      "dropout_4 (Dropout)          (None, 10)                0         \n",
      "_________________________________________________________________\n",
      "dense_4 (Dense)              (None, 1)                 11        \n",
      "=================================================================\n",
      "Total params: 7,177,957\n",
      "Trainable params: 7,177,957\n",
      "Non-trainable params: 0\n",
      "_________________________________________________________________\n"
     ]
    }
   ],
   "source": [
    "model= create_model()\n",
    "model.compile(loss='mse', optimizer='adam')\n",
    "model.summary()"
   ]
  },
  {
   "cell_type": "code",
   "execution_count": 6,
   "metadata": {},
   "outputs": [],
   "source": [
    "earlyStopping = EarlyStopping(monitor = 'val_loss', patience = 3, verbose = True, mode = 'min')\n",
    "checkpoint = ModelCheckpoint('models/model-measurement-' + str(measurement_offset) + '-{epoch:03d}-{loss:03f}-{val_loss:03f}.h5', verbose=True, monitor='val_loss', save_best_only=True, mode='auto')  \n",
    "#model.fit(X_train, y_train, validation_split = 0.2, shuffle = True, epochs = 10, batch_size = 8, callbacks=[earlyStopping, checkpoint, plot_losses], verbose=True)\n",
    "\n"
   ]
  },
  {
   "cell_type": "code",
   "execution_count": 7,
   "metadata": {},
   "outputs": [
    {
     "data": {
      "image/png": "[encoded data removed]",
      "text/plain": [
       "<Figure size 432x288 with 1 Axes>"
      ]
     },
     "metadata": {
      "needs_background": "light"
     },
     "output_type": "display_data"
    },
    {
     "name": "stdout",
     "output_type": "stream",
     "text": [
      "Epoch 00012: early stopping\n"
     ]
    }
   ],
   "source": [
    "model.fit_generator(train_generator, \n",
    "            steps_per_epoch=np.ceil(len(train_samples)/batch_size), \n",
    "            validation_data=validation_generator, \n",
    "            validation_steps=np.ceil(len(validation_samples)/batch_size), \n",
    "            epochs=20, callbacks=[earlyStopping, checkpoint, plot_losses], verbose = True)\n",
    "\n",
    "\n",
    "model.save('model' + str(measurement_offset) + '.h5')"
   ]
  },
  {
   "cell_type": "code",
   "execution_count": 8,
   "metadata": {},
   "outputs": [
    {
     "data": {
      "text/plain": [
       "[<keras.layers.convolutional.Cropping2D at 0x7f08f3d385c0>,\n",
       " <keras.layers.core.Lambda at 0x7f08f3d38d68>,\n",
       " <keras.layers.convolutional.Conv2D at 0x7f08f3d38978>,\n",
       " <keras.layers.convolutional.Conv2D at 0x7f08f32156a0>,\n",
       " <keras.layers.convolutional.Conv2D at 0x7f08ec7d7f60>,\n",
       " <keras.layers.convolutional.Conv2D at 0x7f08ebf8eb70>,\n",
       " <keras.layers.pooling.MaxPooling2D at 0x7f08ebf22d68>,\n",
       " <keras.layers.convolutional.Conv2D at 0x7f08ebf22a58>,\n",
       " <keras.layers.core.Flatten at 0x7f08ebeda5f8>,\n",
       " <keras.layers.core.Dense at 0x7f08ebeda860>,\n",
       " <keras.layers.core.Dropout at 0x7f08ebf05c50>,\n",
       " <keras.layers.core.Dense at 0x7f08ebf05a90>,\n",
       " <keras.layers.core.Dropout at 0x7f08ebeaaf60>,\n",
       " <keras.layers.core.Dropout at 0x7f08ebebff98>,\n",
       " <keras.layers.core.Dense at 0x7f08ebebf160>,\n",
       " <keras.layers.core.Dropout at 0x7f08ebe2f2e8>,\n",
       " <keras.layers.core.Dense at 0x7f08ebe2fef0>]"
      ]
     },
     "execution_count": 8,
     "metadata": {},
     "output_type": "execute_result"
    }
   ],
   "source": [
    "model.layers"
   ]
  },
  {
   "cell_type": "code",
   "execution_count": 8,
   "metadata": {},
   "outputs": [
    {
     "name": "stdout",
     "output_type": "stream",
     "text": [
      "24\n"
     ]
    },
    {
     "data": {
      "image/png": "[encoded data removed]",
      "text/plain": [
       "<Figure size 360x360 with 24 Axes>"
      ]
     },
     "metadata": {},
     "output_type": "display_data"
    },
    {
     "data": {
      "text/plain": [
       "24"
      ]
     },
     "execution_count": 8,
     "metadata": {},
     "output_type": "execute_result"
    }
   ],
   "source": [
    "filters, biases = model.layers[2].get_weights()\n",
    "f_min, f_max = filters.min(), filters.max()\n",
    "filters = (filters - f_min) / (f_max - f_min)\n",
    "\n",
    "\n",
    "plt.rcParams['figure.figsize'] = (5, 5)\n",
    "\n",
    "n_filters, ix = filters.shape[-1], 1\n",
    "print (n_filters)\n",
    "for i in range(n_filters):\n",
    "    #get the filter\n",
    "    f = filters[:, :, :, i]   \n",
    "    ax = plt.subplot(5, 5, ix)\n",
    "    ax.set_xticks([])\n",
    "    ax.set_yticks([])\n",
    "    plt.imshow(f[:, :, 2], cmap='gray')\n",
    "    ix += 1\n",
    "plt.show()\n",
    "\n",
    "\n",
    "filters.shape[-1]"
   ]
  },
  {
   "cell_type": "code",
   "execution_count": 15,
   "metadata": {},
   "outputs": [
    {
     "data": {
      "text/plain": [
       "<matplotlib.image.AxesImage at 0x7f7d272cfcc0>"
      ]
     },
     "execution_count": 15,
     "metadata": {},
     "output_type": "execute_result"
    },
    {
     "data": {
      "image/png": "[encoded data removed]",
      "text/plain": [
       "<Figure size 1152x303.158 with 1 Axes>"
      ]
     },
     "metadata": {
      "needs_background": "light"
     },
     "output_type": "display_data"
    }
   ],
   "source": [
    "layer_outputs = [layer.output for layer in model.layers[:9]] # Extracts the outputs of the top 12 layers\n",
    "activation_model = keras.models.Model(inputs=model.input, outputs=layer_outputs) # Creates a model that will return these outputs, given the model input\n",
    "center_cam = samples[1253][0]\n",
    "\n",
    "\n",
    "img = cv2.imread(center_cam)\n",
    "img = cv2.cvtColor(img, cv2.COLOR_BGR2RGB)# use the new right turn image\n",
    "\n",
    "activations = activation_model.predict(np.expand_dims(img,0))\n",
    "activations\n",
    "\n",
    "#show some random sample of activations\n",
    "plt.matshow(activations[6][0, :, :, 12], cmap='viridis')"
   ]
  },
  {
   "cell_type": "code",
   "execution_count": null,
   "metadata": {},
   "outputs": [],
   "source": []
  }
 ],
 "metadata": {
  "kernelspec": {
   "display_name": "keras_py37",
   "language": "python",
   "name": "keras_py37"
  },
  "language_info": {
   "codemirror_mode": {
    "name": "ipython",
    "version": 3
   },
   "file_extension": ".py",
   "mimetype": "text/x-python",
   "name": "python",
   "nbconvert_exporter": "python",
   "pygments_lexer": "ipython3",
   "version": "3.7.3"
  }
 },
 "nbformat": 4,
 "nbformat_minor": 2
}
